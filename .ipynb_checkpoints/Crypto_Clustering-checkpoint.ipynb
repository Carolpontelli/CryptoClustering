{
 "cells": [
  {
   "cell_type": "markdown",
   "metadata": {
    "id": "h04inXByDxXp"
   },
   "source": [
    "## Installing libraries"
   ]
  },
  {
   "cell_type": "code",
   "execution_count": 1,
   "metadata": {
    "colab": {
     "base_uri": "https://localhost:8080/"
    },
    "id": "BhTc0D2k_2IN",
    "outputId": "a4d94f89-86d9-48c3-dcc7-5a32ff0f8f94",
    "scrolled": false
   },
   "outputs": [
    {
     "name": "stdout",
     "output_type": "stream",
     "text": [
      "Requirement already satisfied: holoviews in c:\\users\\anaca\\anaconda3\\lib\\site-packages (1.18.1)\n",
      "Requirement already satisfied: param<3.0,>=1.12.0 in c:\\users\\anaca\\anaconda3\\lib\\site-packages (from holoviews) (2.0.1)\n",
      "Requirement already satisfied: numpy>=1.0 in c:\\users\\anaca\\anaconda3\\lib\\site-packages (from holoviews) (1.24.3)\n",
      "Requirement already satisfied: pyviz-comms>=0.7.4 in c:\\users\\anaca\\anaconda3\\lib\\site-packages (from holoviews) (2.3.0)\n",
      "Requirement already satisfied: panel>=1.0 in c:\\users\\anaca\\anaconda3\\lib\\site-packages (from holoviews) (1.3.1)\n",
      "Requirement already satisfied: colorcet in c:\\users\\anaca\\anaconda3\\lib\\site-packages (from holoviews) (3.0.1)\n",
      "Requirement already satisfied: packaging in c:\\users\\anaca\\anaconda3\\lib\\site-packages (from holoviews) (23.1)\n",
      "Requirement already satisfied: pandas>=0.20.0 in c:\\users\\anaca\\anaconda3\\lib\\site-packages (from holoviews) (2.1.1)\n",
      "Requirement already satisfied: python-dateutil>=2.8.2 in c:\\users\\anaca\\anaconda3\\lib\\site-packages (from pandas>=0.20.0->holoviews) (2.8.2)\n",
      "Requirement already satisfied: pytz>=2020.1 in c:\\users\\anaca\\anaconda3\\lib\\site-packages (from pandas>=0.20.0->holoviews) (2023.3.post1)\n",
      "Requirement already satisfied: tzdata>=2022.1 in c:\\users\\anaca\\anaconda3\\lib\\site-packages (from pandas>=0.20.0->holoviews) (2023.3)\n",
      "Requirement already satisfied: bokeh<3.4.0,>=3.2.0 in c:\\users\\anaca\\anaconda3\\lib\\site-packages (from panel>=1.0->holoviews) (3.3.0)\n",
      "Requirement already satisfied: xyzservices>=2021.09.1 in c:\\users\\anaca\\anaconda3\\lib\\site-packages (from panel>=1.0->holoviews) (2022.9.0)\n",
      "Requirement already satisfied: markdown in c:\\users\\anaca\\anaconda3\\lib\\site-packages (from panel>=1.0->holoviews) (3.4.1)\n",
      "Requirement already satisfied: markdown-it-py in c:\\users\\anaca\\anaconda3\\lib\\site-packages (from panel>=1.0->holoviews) (2.2.0)\n",
      "Requirement already satisfied: linkify-it-py in c:\\users\\anaca\\anaconda3\\lib\\site-packages (from panel>=1.0->holoviews) (2.0.0)\n",
      "Requirement already satisfied: mdit-py-plugins in c:\\users\\anaca\\anaconda3\\lib\\site-packages (from panel>=1.0->holoviews) (0.3.0)\n",
      "Requirement already satisfied: requests in c:\\users\\anaca\\anaconda3\\lib\\site-packages (from panel>=1.0->holoviews) (2.31.0)\n",
      "Requirement already satisfied: tqdm>=4.48.0 in c:\\users\\anaca\\anaconda3\\lib\\site-packages (from panel>=1.0->holoviews) (4.65.0)\n",
      "Requirement already satisfied: bleach in c:\\users\\anaca\\anaconda3\\lib\\site-packages (from panel>=1.0->holoviews) (4.1.0)\n",
      "Requirement already satisfied: typing-extensions in c:\\users\\anaca\\anaconda3\\lib\\site-packages (from panel>=1.0->holoviews) (4.7.1)\n",
      "Requirement already satisfied: pyct>=0.4.4 in c:\\users\\anaca\\anaconda3\\lib\\site-packages (from colorcet->holoviews) (0.5.0)\n",
      "Requirement already satisfied: Jinja2>=2.9 in c:\\users\\anaca\\anaconda3\\lib\\site-packages (from bokeh<3.4.0,>=3.2.0->panel>=1.0->holoviews) (3.1.2)\n",
      "Requirement already satisfied: contourpy>=1 in c:\\users\\anaca\\anaconda3\\lib\\site-packages (from bokeh<3.4.0,>=3.2.0->panel>=1.0->holoviews) (1.0.5)\n",
      "Requirement already satisfied: pillow>=7.1.0 in c:\\users\\anaca\\anaconda3\\lib\\site-packages (from bokeh<3.4.0,>=3.2.0->panel>=1.0->holoviews) (10.0.1)\n",
      "Requirement already satisfied: PyYAML>=3.10 in c:\\users\\anaca\\anaconda3\\lib\\site-packages (from bokeh<3.4.0,>=3.2.0->panel>=1.0->holoviews) (6.0.1)\n",
      "Requirement already satisfied: tornado>=5.1 in c:\\users\\anaca\\anaconda3\\lib\\site-packages (from bokeh<3.4.0,>=3.2.0->panel>=1.0->holoviews) (6.3.3)\n",
      "Requirement already satisfied: six>=1.5 in c:\\users\\anaca\\anaconda3\\lib\\site-packages (from python-dateutil>=2.8.2->pandas>=0.20.0->holoviews) (1.16.0)\n",
      "Requirement already satisfied: colorama in c:\\users\\anaca\\anaconda3\\lib\\site-packages (from tqdm>=4.48.0->panel>=1.0->holoviews) (0.4.6)\n",
      "Requirement already satisfied: webencodings in c:\\users\\anaca\\anaconda3\\lib\\site-packages (from bleach->panel>=1.0->holoviews) (0.5.1)\n",
      "Requirement already satisfied: uc-micro-py in c:\\users\\anaca\\anaconda3\\lib\\site-packages (from linkify-it-py->panel>=1.0->holoviews) (1.0.1)\n",
      "Requirement already satisfied: mdurl~=0.1 in c:\\users\\anaca\\anaconda3\\lib\\site-packages (from markdown-it-py->panel>=1.0->holoviews) (0.1.0)\n",
      "Requirement already satisfied: charset-normalizer<4,>=2 in c:\\users\\anaca\\anaconda3\\lib\\site-packages (from requests->panel>=1.0->holoviews) (2.0.4)\n",
      "Requirement already satisfied: idna<4,>=2.5 in c:\\users\\anaca\\anaconda3\\lib\\site-packages (from requests->panel>=1.0->holoviews) (3.4)\n",
      "Requirement already satisfied: urllib3<3,>=1.21.1 in c:\\users\\anaca\\anaconda3\\lib\\site-packages (from requests->panel>=1.0->holoviews) (1.26.18)\n",
      "Requirement already satisfied: certifi>=2017.4.17 in c:\\users\\anaca\\anaconda3\\lib\\site-packages (from requests->panel>=1.0->holoviews) (2023.7.22)\n",
      "Requirement already satisfied: MarkupSafe>=2.0 in c:\\users\\anaca\\anaconda3\\lib\\site-packages (from Jinja2>=2.9->bokeh<3.4.0,>=3.2.0->panel>=1.0->holoviews) (2.1.1)\n",
      "Requirement already satisfied: hvplot in c:\\users\\anaca\\anaconda3\\lib\\site-packages (0.9.0)\n",
      "Requirement already satisfied: bokeh>=1.0.0 in c:\\users\\anaca\\anaconda3\\lib\\site-packages (from hvplot) (3.3.0)\n",
      "Requirement already satisfied: colorcet>=2 in c:\\users\\anaca\\anaconda3\\lib\\site-packages (from hvplot) (3.0.1)\n",
      "Requirement already satisfied: holoviews>=1.11.0 in c:\\users\\anaca\\anaconda3\\lib\\site-packages (from hvplot) (1.18.1)\n",
      "Requirement already satisfied: pandas in c:\\users\\anaca\\anaconda3\\lib\\site-packages (from hvplot) (2.1.1)\n",
      "Requirement already satisfied: numpy>=1.15 in c:\\users\\anaca\\anaconda3\\lib\\site-packages (from hvplot) (1.24.3)\n",
      "Requirement already satisfied: packaging in c:\\users\\anaca\\anaconda3\\lib\\site-packages (from hvplot) (23.1)\n",
      "Requirement already satisfied: panel>=0.11.0 in c:\\users\\anaca\\anaconda3\\lib\\site-packages (from hvplot) (1.3.1)\n",
      "Requirement already satisfied: param<3.0,>=1.9.0 in c:\\users\\anaca\\anaconda3\\lib\\site-packages (from hvplot) (2.0.1)\n",
      "Requirement already satisfied: Jinja2>=2.9 in c:\\users\\anaca\\anaconda3\\lib\\site-packages (from bokeh>=1.0.0->hvplot) (3.1.2)\n",
      "Requirement already satisfied: contourpy>=1 in c:\\users\\anaca\\anaconda3\\lib\\site-packages (from bokeh>=1.0.0->hvplot) (1.0.5)\n",
      "Requirement already satisfied: pillow>=7.1.0 in c:\\users\\anaca\\anaconda3\\lib\\site-packages (from bokeh>=1.0.0->hvplot) (10.0.1)\n",
      "Requirement already satisfied: PyYAML>=3.10 in c:\\users\\anaca\\anaconda3\\lib\\site-packages (from bokeh>=1.0.0->hvplot) (6.0.1)\n",
      "Requirement already satisfied: tornado>=5.1 in c:\\users\\anaca\\anaconda3\\lib\\site-packages (from bokeh>=1.0.0->hvplot) (6.3.3)\n",
      "Requirement already satisfied: xyzservices>=2021.09.1 in c:\\users\\anaca\\anaconda3\\lib\\site-packages (from bokeh>=1.0.0->hvplot) (2022.9.0)\n",
      "Requirement already satisfied: pyct>=0.4.4 in c:\\users\\anaca\\anaconda3\\lib\\site-packages (from colorcet>=2->hvplot) (0.5.0)\n",
      "Requirement already satisfied: pyviz-comms>=0.7.4 in c:\\users\\anaca\\anaconda3\\lib\\site-packages (from holoviews>=1.11.0->hvplot) (2.3.0)\n",
      "Requirement already satisfied: python-dateutil>=2.8.2 in c:\\users\\anaca\\anaconda3\\lib\\site-packages (from pandas->hvplot) (2.8.2)\n",
      "Requirement already satisfied: pytz>=2020.1 in c:\\users\\anaca\\anaconda3\\lib\\site-packages (from pandas->hvplot) (2023.3.post1)\n",
      "Requirement already satisfied: tzdata>=2022.1 in c:\\users\\anaca\\anaconda3\\lib\\site-packages (from pandas->hvplot) (2023.3)\n",
      "Requirement already satisfied: markdown in c:\\users\\anaca\\anaconda3\\lib\\site-packages (from panel>=0.11.0->hvplot) (3.4.1)\n",
      "Requirement already satisfied: markdown-it-py in c:\\users\\anaca\\anaconda3\\lib\\site-packages (from panel>=0.11.0->hvplot) (2.2.0)\n",
      "Requirement already satisfied: linkify-it-py in c:\\users\\anaca\\anaconda3\\lib\\site-packages (from panel>=0.11.0->hvplot) (2.0.0)\n",
      "Requirement already satisfied: mdit-py-plugins in c:\\users\\anaca\\anaconda3\\lib\\site-packages (from panel>=0.11.0->hvplot) (0.3.0)\n",
      "Requirement already satisfied: requests in c:\\users\\anaca\\anaconda3\\lib\\site-packages (from panel>=0.11.0->hvplot) (2.31.0)\n",
      "Requirement already satisfied: tqdm>=4.48.0 in c:\\users\\anaca\\anaconda3\\lib\\site-packages (from panel>=0.11.0->hvplot) (4.65.0)\n",
      "Requirement already satisfied: bleach in c:\\users\\anaca\\anaconda3\\lib\\site-packages (from panel>=0.11.0->hvplot) (4.1.0)\n",
      "Requirement already satisfied: typing-extensions in c:\\users\\anaca\\anaconda3\\lib\\site-packages (from panel>=0.11.0->hvplot) (4.7.1)\n",
      "Requirement already satisfied: MarkupSafe>=2.0 in c:\\users\\anaca\\anaconda3\\lib\\site-packages (from Jinja2>=2.9->bokeh>=1.0.0->hvplot) (2.1.1)\n",
      "Requirement already satisfied: six>=1.5 in c:\\users\\anaca\\anaconda3\\lib\\site-packages (from python-dateutil>=2.8.2->pandas->hvplot) (1.16.0)\n",
      "Requirement already satisfied: colorama in c:\\users\\anaca\\anaconda3\\lib\\site-packages (from tqdm>=4.48.0->panel>=0.11.0->hvplot) (0.4.6)\n",
      "Requirement already satisfied: webencodings in c:\\users\\anaca\\anaconda3\\lib\\site-packages (from bleach->panel>=0.11.0->hvplot) (0.5.1)\n",
      "Requirement already satisfied: uc-micro-py in c:\\users\\anaca\\anaconda3\\lib\\site-packages (from linkify-it-py->panel>=0.11.0->hvplot) (1.0.1)\n",
      "Requirement already satisfied: mdurl~=0.1 in c:\\users\\anaca\\anaconda3\\lib\\site-packages (from markdown-it-py->panel>=0.11.0->hvplot) (0.1.0)\n",
      "Requirement already satisfied: charset-normalizer<4,>=2 in c:\\users\\anaca\\anaconda3\\lib\\site-packages (from requests->panel>=0.11.0->hvplot) (2.0.4)\n",
      "Requirement already satisfied: idna<4,>=2.5 in c:\\users\\anaca\\anaconda3\\lib\\site-packages (from requests->panel>=0.11.0->hvplot) (3.4)\n",
      "Requirement already satisfied: urllib3<3,>=1.21.1 in c:\\users\\anaca\\anaconda3\\lib\\site-packages (from requests->panel>=0.11.0->hvplot) (1.26.18)\n",
      "Requirement already satisfied: certifi>=2017.4.17 in c:\\users\\anaca\\anaconda3\\lib\\site-packages (from requests->panel>=0.11.0->hvplot) (2023.7.22)\n"
     ]
    }
   ],
   "source": [
    "!pip install holoviews\n",
    "!pip install hvplot"
   ]
  },
  {
   "cell_type": "code",
   "execution_count": null,
   "metadata": {
    "id": "FmnKbDqAM11g"
   },
   "outputs": [],
   "source": [
    "# Imports\n",
    "import pandas as pd\n",
    "from sklearn.preprocessing import StandardScaler\n",
    "from sklearn.cluster import KMeans\n",
    "from sklearn.decomposition import PCA\n",
    "import seaborn as sns\n",
    "import matplotlib.pyplot as plt\n",
    "import hvplot.pandas"
   ]
  },
  {
   "cell_type": "code",
   "execution_count": null,
   "metadata": {
    "colab": {
     "base_uri": "https://localhost:8080/",
     "height": 275
    },
    "id": "HBHjyb4vM4eM",
    "outputId": "b73869a4-dd86-4f93-b770-87f334362883"
   },
   "outputs": [],
   "source": [
    "# Carregando os dados e definindo índice\n",
    "data = pd.read_csv(\"crypto_market_data.csv\", index_col=\"coin_id\")\n",
    "\n",
    "data.head()"
   ]
  },
  {
   "cell_type": "code",
   "execution_count": null,
   "metadata": {
    "colab": {
     "base_uri": "https://localhost:8080/",
     "height": 1000
    },
    "id": "9NXuhptiNnNO",
    "outputId": "cc84735f-dce9-4300-eeae-222c4a76b196"
   },
   "outputs": [],
   "source": [
    "# Prints a summary of the data, including the mean, standard deviation, minimum, maximum, and number of observations for each column.\n",
    "# Plots a histogram of each column in the DataFrame.\n",
    "print(data.describe())\n",
    "data.hist(figsize=(10, 10))\n",
    "plt.show()"
   ]
  },
  {
   "cell_type": "code",
   "execution_count": null,
   "metadata": {
    "id": "Er2JGVQuM729"
   },
   "outputs": [],
   "source": [
    "# Função para encontrar o melhor valor de k usando o método do cotovelo\n",
    "def find_best_k(data, range_k):\n",
    "    scaler = StandardScaler()\n",
    "    scaled_data = scaler.fit_transform(data)\n",
    "    scaled_data_df = pd.DataFrame(scaled_data, index=data.index, columns=data.columns)\n",
    "\n",
    "    inertia_values = []\n",
    "    for num_clusters in range_k:\n",
    "        kmeans = KMeans(n_clusters=num_clusters, random_state=42)\n",
    "        kmeans.fit(scaled_data_df)\n",
    "        inertia_values.append(kmeans.inertia_)\n",
    "\n",
    "    # Plotando o método do cotovelo\n",
    "    plt.plot(range_k, inertia_values, marker='o')\n",
    "    plt.xlabel(\"Number of clusters (k)\")\n",
    "    plt.ylabel(\"Inertia\")\n",
    "    plt.title(\"Elbow Method for Optimal k\")\n",
    "    plt.show()\n",
    "\n",
    "    # Retornando o melhor valor de k\n",
    "    best_k = 4\n",
    "    return best_k"
   ]
  },
  {
   "cell_type": "code",
   "execution_count": null,
   "metadata": {
    "id": "vFOfuqFgNCh9"
   },
   "outputs": [],
   "source": [
    "# Função para realizar o clustering e visualizar os resultados com hvPlot\n",
    "def cluster_and_visualize(data, best_k, pca=False):\n",
    "    # Prepara os dados\n",
    "    scaler = StandardScaler()\n",
    "    scaled_data = scaler.fit_transform(data)\n",
    "    scaled_data_df = pd.DataFrame(scaled_data, index=data.index, columns=data.columns)\n",
    "\n",
    "    # Inicializa o modelo K-means\n",
    "    kmeans = KMeans(n_clusters=best_k, random_state=42)\n",
    "\n",
    "    # Aplica PCA se necessário\n",
    "    if pca:\n",
    "        pca_model = PCA(n_components=3)\n",
    "        pca_data = pca_model.fit_transform(scaled_data_df)\n",
    "        scaled_data_df = pd.DataFrame(pca_data, index=data.index, columns=[\"PC1\", \"PC2\", \"PC3\"])\n",
    "\n",
    "    # Ajusta o modelo K-means\n",
    "    cluster_labels = kmeans.fit_predict(scaled_data_df)\n",
    "\n",
    "    # Adiciona coluna de clusters ao DataFrame original\n",
    "    data[\"cluster\"] = cluster_labels\n",
    "    data_with_clusters = data.copy()\n",
    "\n",
    "\n",
    "    # Adiciona colunas PCA ao DataFrame se necessário\n",
    "    if pca:\n",
    "        data_with_clusters[[\"PC1\", \"PC2\", \"PC3\"]] = scaled_data_df[[\"PC1\", \"PC2\", \"PC3\"]]\n",
    "\n",
    "    # Visualiza os clusters com hvPlot\n",
    "    if pca:\n",
    "        plot = data_with_clusters.hvplot.scatter(x=\"PC1\", y=\"PC2\", by=\"cluster\", hover_cols=[\"crypto_name\"])\n",
    "    else:\n",
    "        plot = data_with_clusters.hvplot.scatter(x=\"price_change_percentage_24h\", y=\"price_change_percentage_7d\", by=\"cluster\", hover_cols=[\"crypto_name\"])\n",
    "\n",
    "    return plot"
   ]
  },
  {
   "cell_type": "code",
   "execution_count": null,
   "metadata": {
    "colab": {
     "base_uri": "https://localhost:8080/",
     "height": 1000
    },
    "id": "KttS24bGBBQ2",
    "outputId": "2d046087-bf5b-4acc-c7a1-5db6c3b0e444"
   },
   "outputs": [],
   "source": [
    "# Plotando  clusters usando seaborn\n",
    "sns.scatterplot(data=data_with_clusters, x=\"price_change_percentage_24h\", y=\"price_change_percentage_7d\", hue=\"cluster\")\n",
    "plt.title(\"Cryptocurrency Clusters (Original Data)\")\n",
    "plt.show()\n",
    "\n",
    "# Encontrando o melhor valor de k usando o método do cotovelo\n",
    "best_k_original_data = find_best_k(data, range_k=range(1, 11))\n",
    "\n",
    "# Realizando o clustering e visualizando com dados originais\n",
    "plot_original_data = cluster_and_visualize(data, best_k_original_data)\n",
    "\n",
    "# Otimizando clusters com PCA\n",
    "pca_model = PCA(n_components=3)\n",
    "pca_data = pca_model.fit_transform(data)\n",
    "explained_variance = pca_model.explained_variance_ratio_.sum()\n",
    "\n",
    "# Criando DataFrame com dados da PCA\n",
    "pca_df = pd.DataFrame(pca_data, index=data.index, columns=[\"PC1\", \"PC2\", \"PC3\"])\n",
    "\n",
    "# Encontrando o melhor valor de k usando o método do cotovelo com dados da PCA\n",
    "best_k_pca_data = find_best_k(pca_df, range_k=range(1, 11))\n",
    "\n",
    "# Realizando o clustering e visualizando com dados da PCA\n",
    "plot_pca_data = cluster_and_visualize(data, best_k_pca_data, pca=True)\n",
    "\n",
    "# Visualizando e comparando os resultados\n",
    "composite_plot_elbow = plot_original_data + plot_pca_data\n",
    "composite_plot_elbow.options(width=500, height=400, title=\"Elbow Method Comparison\")  # Ajuste o tamanho conforme necessário"
   ]
  },
  {
   "cell_type": "code",
   "execution_count": null,
   "metadata": {
    "colab": {
     "base_uri": "https://localhost:8080/"
    },
    "id": "0iy6TpL4NQ0B",
    "outputId": "240f4b57-86ec-4085-f756-ecbbf9565542"
   },
   "outputs": [],
   "source": [
    "# Imprime o melhor valor para k usando os dados originais\n",
    "best_k_original = 4\n",
    "print(\"O melhor valor para k usando os dados originais é:\", best_k_original)\n",
    "\n",
    "# Imprime o melhor valor para k usando o PCA\n",
    "best_k_pca = 4\n",
    "print(\"O melhor valor para k usando o PCA é:\", best_k_pca)\n",
    "\n",
    "# Responder à pergunta sobre o impacto de usar menos características na análise de clusters\n",
    "impact_of_fewer_features = \"Ao usar menos características, a variabilidade dos dados é reduzida, impactando a formação dos clusters.\"\n",
    "print(impact_of_fewer_features)"
   ]
  },
  {
   "cell_type": "code",
   "execution_count": null,
   "metadata": {},
   "outputs": [],
   "source": []
  }
 ],
 "metadata": {
  "colab": {
   "provenance": []
  },
  "kernelspec": {
   "display_name": "Python 3 (ipykernel)",
   "language": "python",
   "name": "python3"
  },
  "language_info": {
   "codemirror_mode": {
    "name": "ipython",
    "version": 3
   },
   "file_extension": ".py",
   "mimetype": "text/x-python",
   "name": "python",
   "nbconvert_exporter": "python",
   "pygments_lexer": "ipython3",
   "version": "3.11.5"
  }
 },
 "nbformat": 4,
 "nbformat_minor": 1
}
